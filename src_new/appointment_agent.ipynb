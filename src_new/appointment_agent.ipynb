{
 "cells": [
  {
   "cell_type": "code",
   "execution_count": 13,
   "metadata": {},
   "outputs": [
    {
     "data": {
      "text/plain": [
       "'Hello! How can I assist you today?'"
      ]
     },
     "execution_count": 13,
     "metadata": {},
     "output_type": "execute_result"
    }
   ],
   "source": [
    "import dotenv\n",
    "dotenv.load_dotenv('./azure.env')\n",
    "\n",
    "from langchain.chat_models import AzureChatOpenAI\n",
    "# gpt-35-turbo\n",
    "chat = AzureChatOpenAI(temperature=0, azure_deployment='gpt-4')\n",
    "chat.predict('''hello''')"
   ]
  },
  {
   "cell_type": "code",
   "execution_count": 14,
   "metadata": {},
   "outputs": [],
   "source": [
    "from langchain.agents import AgentType, initialize_agent\n",
    "from langchain.chains import LLMMathChain\n",
    "from langchain.chat_models import ChatOpenAI\n",
    "from langchain.tools import BaseTool, StructuredTool, Tool, tool\n",
    "from langchain.utilities import SerpAPIWrapper"
   ]
  },
  {
   "cell_type": "code",
   "execution_count": 15,
   "metadata": {},
   "outputs": [],
   "source": [
    "import pickle"
   ]
  },
  {
   "cell_type": "code",
   "execution_count": 16,
   "metadata": {},
   "outputs": [],
   "source": [
    "_uid = {\n",
    "    '张三': 1000,\n",
    "    '李四': 1001,\n",
    "    '王五': 1002\n",
    "}\n",
    "\n",
    "@tool(\"query_uid\")\n",
    "def _query_uid(name: str) -> int:\n",
    "    \"\"\"根据姓名查询公司的员工编号\n",
    "\n",
    "    Args:\n",
    "        name (str): 中文姓名，姓在前，名在后，中间没有任何分隔\n",
    "\n",
    "    Returns:\n",
    "        int: 员工编号\n",
    "    \"\"\"\n",
    "    return _uid[name]\n",
    "\n",
    "\n",
    "_not_free = {\n",
    "    (1000, 2023, 12, 1, 13), # 张三明天1300忙\n",
    "    (1001, 2023, 12, 1, 14), # 李四明天1400忙\n",
    "    (1002, 2023, 12, 1, 15), # 王五明天1500忙\n",
    "}\n",
    "\n",
    "@tool(\"query_calendar_free\")\n",
    "def _query_calendar_free(uid: int, year: int, month: int, day: int, hour_24: int) -> bool:\n",
    "    \"\"\"检查公司某位员工的日历在指定时间是否空闲。\n",
    "\n",
    "    Args:\n",
    "        uid (int): 员工编号\n",
    "        year (int): 公历年号\n",
    "        month (int): 公历月份\n",
    "        day (int): 公历日\n",
    "        hour_24 (int): 24小时制下的一天中的某个小时\n",
    "\n",
    "    Returns:\n",
    "        bool: true表示空闲\n",
    "    \"\"\"\n",
    "    args = (uid, year, month, day, hour_24)\n",
    "    return args not in _not_free\n"
   ]
  },
  {
   "cell_type": "code",
   "execution_count": 17,
   "metadata": {},
   "outputs": [],
   "source": [
    "from datetime import datetime, timedelta\n",
    "\n",
    "@tool(\"query_date\")\n",
    "def _query_date() -> dict:\n",
    "    \"\"\"查询今天的日期\"\"\"\n",
    "    now = datetime.now()\n",
    "    return {\n",
    "        'year': now.year,\n",
    "        'month': now.month,\n",
    "        'day': now.day\n",
    "    }\n",
    "\n",
    "\n",
    "@tool(\"date_calc\")\n",
    "def _date_calc(year: int, month: int, day: int, delta_day: int) -> dict:\n",
    "    \"\"\"根据已有日期，和已知的偏移，计算得到一个新的日期。\n",
    "\n",
    "    Args:\n",
    "        year (int): 公元纪年\n",
    "        month (int): 公历月份\n",
    "        day (int): 公历日数\n",
    "        delta_day (int): 新日期相对于今天的日数偏移。向未来偏移为正，向过去偏移为负。\n",
    "\n",
    "    Returns:\n",
    "        dict: 表示日期的json字典。\n",
    "    \"\"\"\n",
    "    curr = datetime(year=year,month=month,day=day)\n",
    "    delta = timedelta(days=delta_day)\n",
    "    date_new = curr + delta\n",
    "    # return date_new\n",
    "    return {\n",
    "        'year': date_new.year,\n",
    "        'month': date_new.month,\n",
    "        'day': date_new.day\n",
    "    }\n",
    "    "
   ]
  },
  {
   "cell_type": "code",
   "execution_count": 18,
   "metadata": {},
   "outputs": [],
   "source": [
    "from langchain.prompts import PromptTemplate"
   ]
  },
  {
   "cell_type": "code",
   "execution_count": 19,
   "metadata": {},
   "outputs": [],
   "source": [
    "react_tmpl_zh = PromptTemplate.from_template('''尽可能回答以下问题。 你可以使用以下工具：\n",
    "\n",
    "{tools}\n",
    "\n",
    "使用这些工具的方式是指定 json blob。\n",
    "具体来说，这个 json 应该有一个\"action\"键（包含要使用的工具的名称）和一个\"action_input\"键（此处包含工具的输入）。\n",
    "\n",
    "\"action\"字段的值**只能**从下列名称中选取：{tool_names}\n",
    "\n",
    "$JSON_BLOB 应该只包含**单个**操作，**不要**返回多个操作的列表。 以下是有效 $JSON_BLOB 的示例：\n",
    "\n",
    "```\n",
    "{{\n",
    "  \"action\": $TOOL_NAME,\n",
    "  \"action_input\": $INPUT\n",
    "}}\n",
    "```\n",
    "\n",
    "你应当**始终**使用如下格式：\n",
    "\n",
    "Question: 你必须回答的输入问题\n",
    "Thought: 你应该时刻思考该做什么\n",
    "Action:\n",
    "```\n",
    "$JSON_BLOB\n",
    "```\n",
    "Observation: 行动的结果\n",
    "...（这个 Thought/Action/Observation 可以重复N次)\n",
    "Thought: 我现在知道了最终答案\n",
    "Final Answer: 原始输入问题的最终答案\n",
    "\n",
    "开始！\n",
    "\n",
    "Question: {input}\n",
    "Thought: {agent_scratchpad}''')"
   ]
  },
  {
   "cell_type": "code",
   "execution_count": 20,
   "metadata": {},
   "outputs": [
    {
     "ename": "NameError",
     "evalue": "name 'prompt' is not defined",
     "output_type": "error",
     "traceback": [
      "\u001b[0;31m---------------------------------------------------------------------------\u001b[0m",
      "\u001b[0;31mNameError\u001b[0m                                 Traceback (most recent call last)",
      "\u001b[1;32m/workspace/yule/PDFTriage/src_new/appointment_agent.ipynb Cell 8\u001b[0m line \u001b[0;36m1\n\u001b[0;32m----> <a href='vscode-notebook-cell://ssh-remote%2Bdgene/workspace/yule/PDFTriage/src_new/appointment_agent.ipynb#X10sdnNjb2RlLXJlbW90ZQ%3D%3D?line=0'>1</a>\u001b[0m \u001b[39mprint\u001b[39m(prompt\u001b[39m.\u001b[39mformat(\u001b[39minput\u001b[39m\u001b[39m=\u001b[39m\u001b[39m\"\u001b[39m\u001b[39m我想明天下午和张三、王五开会。我约在几点合适？\u001b[39m\u001b[39m\"\u001b[39m, agent_scratchpad\u001b[39m=\u001b[39m\u001b[39m\"\u001b[39m\u001b[39m\"\u001b[39m))\n",
      "\u001b[0;31mNameError\u001b[0m: name 'prompt' is not defined"
     ]
    }
   ],
   "source": [
    "print(prompt.format(input=\"我想明天下午和张三、王五开会。我约在几点合适？\", agent_scratchpad=\"\"))"
   ]
  },
  {
   "cell_type": "code",
   "execution_count": 21,
   "metadata": {},
   "outputs": [],
   "source": [
    "from langchain.tools import BaseTool, StructuredTool, Tool, tool\n",
    "from langchain.utilities import SerpAPIWrapper"
   ]
  },
  {
   "cell_type": "code",
   "execution_count": 22,
   "metadata": {},
   "outputs": [],
   "source": [
    "from langchain import hub\n",
    "from langchain.agents.format_scratchpad import format_log_to_str\n",
    "from langchain.agents.output_parsers import ReActSingleInputOutputParser\n",
    "from langchain.tools.render import render_text_description\n",
    "from langchain.agents.output_parsers import ReActJsonSingleInputOutputParser"
   ]
  },
  {
   "cell_type": "code",
   "execution_count": 23,
   "metadata": {},
   "outputs": [
    {
     "data": {
      "text/plain": [
       "True"
      ]
     },
     "execution_count": 23,
     "metadata": {},
     "output_type": "execute_result"
    }
   ],
   "source": [
    "tools = [_query_calendar_free, _query_date, _date_calc, _query_uid]\n",
    "tools[0].run({'uid': 1, 'year': 1, 'month': 1, 'day': 1, 'hour_24': 1})"
   ]
  },
  {
   "cell_type": "code",
   "execution_count": 28,
   "metadata": {},
   "outputs": [
    {
     "data": {
      "text/plain": [
       "[StructuredTool(name='query_calendar_free', description='query_calendar_free(uid: int, year: int, month: int, day: int, hour_24: int) -> bool - 检查公司某位员工的日历在指定时间是否空闲。\\n\\n    Args:\\n        uid (int): 员工编号\\n        year (int): 公历年号\\n        month (int): 公历月份\\n        day (int): 公历日\\n        hour_24 (int): 24小时制下的一天中的某个小时\\n\\n    Returns:\\n        bool: true表示空闲', args_schema=<class 'pydantic.main.query_calendar_freeSchemaSchema'>, func=<function _query_calendar_free at 0x7f2c97519af0>),\n",
       " StructuredTool(name='query_date', description='query_date() -> dict - 查询今天的日期', args_schema=<class 'pydantic.main.query_dateSchemaSchema'>, func=<function _query_date at 0x7f2c97519d30>),\n",
       " StructuredTool(name='date_calc', description='date_calc(year: int, month: int, day: int, delta_day: int) -> dict - 根据已有日期，和已知的偏移，计算得到一个新的日期。\\n\\n    Args:\\n        year (int): 公元纪年\\n        month (int): 公历月份\\n        day (int): 公历日数\\n        delta_day (int): 新日期相对于今天的日数偏移。向未来偏移为正，向过去偏移为负。\\n\\n    Returns:\\n        dict: 表示日期的json字典。', args_schema=<class 'pydantic.main.date_calcSchemaSchema'>, func=<function _date_calc at 0x7f2c97519e50>),\n",
       " StructuredTool(name='query_uid', description='query_uid(name: str) -> int - 根据姓名查询公司的员工编号\\n\\n    Args:\\n        name (str): 中文姓名，姓在前，名在后，中间没有任何分隔\\n\\n    Returns:\\n        int: 员工编号', args_schema=<class 'pydantic.main.query_uidSchemaSchema'>, func=<function _query_uid at 0x7f2c984d9ca0>)]"
      ]
     },
     "execution_count": 28,
     "metadata": {},
     "output_type": "execute_result"
    }
   ],
   "source": [
    "prompt = react_tmpl_zh.partial(\n",
    "    tools=render_text_description(tools),\n",
    "    tool_names=\", \".join([t.name for t in tools]),\n",
    ")\n",
    "\n",
    "prompt\n",
    "tools"
   ]
  },
  {
   "cell_type": "code",
   "execution_count": 25,
   "metadata": {},
   "outputs": [],
   "source": [
    "chat_model_with_stop = chat.bind(stop=[\"\\nObservation\"])\n",
    "\n",
    "agent = (\n",
    "    {\n",
    "        \"input\": lambda x: x[\"input\"],\n",
    "        \"agent_scratchpad\": lambda x: format_log_to_str(x[\"intermediate_steps\"]),\n",
    "    }\n",
    "    | prompt\n",
    "    | chat_model_with_stop\n",
    "    | ReActJsonSingleInputOutputParser()\n",
    ")"
   ]
  },
  {
   "cell_type": "code",
   "execution_count": 26,
   "metadata": {},
   "outputs": [],
   "source": [
    "from langchain.agents import AgentType, Tool, initialize_agent"
   ]
  },
  {
   "cell_type": "code",
   "execution_count": 27,
   "metadata": {},
   "outputs": [],
   "source": [
    "from langchain.agents import AgentExecutor\n",
    "agent_executor = AgentExecutor(agent=agent, tools=tools, verbose=True, handle_parsing_errors=True)"
   ]
  },
  {
   "cell_type": "code",
   "execution_count": 51,
   "metadata": {},
   "outputs": [
    {
     "name": "stdout",
     "output_type": "stream",
     "text": [
      "\n",
      "\n",
      "\u001b[1m> Entering new AgentExecutor chain...\u001b[0m\n",
      "\u001b[32;1m\u001b[1;3mCould not parse LLM output: 首先，我需要知道明天的日期。然后，我需要查询张三和王五的日程，看看他们明天下午有没有空。我将从查询明天的日期开始。\u001b[0mInvalid or incomplete response\u001b[32;1m\u001b[1;3m我需要使用query_date工具来获取今天的日期。\n",
      "Action:\n",
      "```\n",
      "{\n",
      "  \"action\": \"query_date\",\n",
      "  \"action_input\": {}\n",
      "}\n",
      "```\u001b[0m\u001b[33;1m\u001b[1;3m{'year': 2023, 'month': 11, 'day': 30}\u001b[0m\u001b[32;1m\u001b[1;3m今天是2023年11月30日。我需要使用date_calc工具来计算明天的日期。\n",
      "Action:\n",
      "```\n",
      "{\n",
      "  \"action\": \"date_calc\",\n",
      "  \"action_input\": {\"year\": 2023, \"month\": 11, \"day\": 30, \"delta_day\": 1}\n",
      "}\n",
      "```\u001b[0m\u001b[38;5;200m\u001b[1;3m{'year': 2023, 'month': 12, 'day': 1}\u001b[0m\u001b[32;1m\u001b[1;3m明天是2023年12月1日。接下来，我需要查询张三和王五的员工编号。\n",
      "Action:\n",
      "```\n",
      "{\n",
      "  \"action\": \"query_uid\",\n",
      "  \"action_input\": {\"name\": \"张三\"}\n",
      "}\n",
      "```\u001b[0m\u001b[36;1m\u001b[1;3m1000\u001b[0m\u001b[32;1m\u001b[1;3m张三的员工编号是1000。接下来，我需要查询王五的员工编号。\n",
      "Action:\n",
      "```\n",
      "{\n",
      "  \"action\": \"query_uid\",\n",
      "  \"action_input\": {\"name\": \"王五\"}\n",
      "}\n",
      "```\u001b[0m\u001b[36;1m\u001b[1;3m1002\u001b[0m\u001b[32;1m\u001b[1;3m王五的员工编号是1002。接下来，我需要查询张三和王五明天下午的日程，看看他们有没有空。我将从13点开始查询，直到找到一个他们都有空的时间。\n",
      "Action:\n",
      "```\n",
      "{\n",
      "  \"action\": \"query_calendar_free\",\n",
      "  \"action_input\": {\"uid\": 1000, \"year\": 2023, \"month\": 12, \"day\": 1, \"hour_24\": 13}\n",
      "}\n",
      "```\u001b[0m\u001b[36;1m\u001b[1;3mFalse\u001b[0m\u001b[32;1m\u001b[1;3m张三在13点没有空。我需要查询他在14点是否有空。\n",
      "Action:\n",
      "```\n",
      "{\n",
      "  \"action\": \"query_calendar_free\",\n",
      "  \"action_input\": {\"uid\": 1000, \"year\": 2023, \"month\": 12, \"day\": 1, \"hour_24\": 14}\n",
      "}\n",
      "```\u001b[0m\u001b[36;1m\u001b[1;3mTrue\u001b[0m\u001b[32;1m\u001b[1;3m张三在14点有空。接下来，我需要查询王五在14点是否有空。\n",
      "Action:\n",
      "```\n",
      "{\n",
      "  \"action\": \"query_calendar_free\",\n",
      "  \"action_input\": {\"uid\": 1002, \"year\": 2023, \"month\": 12, \"day\": 1, \"hour_24\": 14}\n",
      "}\n",
      "```\u001b[0m\u001b[36;1m\u001b[1;3mTrue\u001b[0m\u001b[32;1m\u001b[1;3m王五在14点也有空。所以，我们可以在明天下午14点开会。\n",
      "Final Answer: 明天下午14点是合适的开会时间。\u001b[0m\n",
      "\n",
      "\u001b[1m> Finished chain.\u001b[0m\n"
     ]
    },
    {
     "data": {
      "text/plain": [
       "{'input': '我想明天下午和张三、王五开会。我约在几点合适？', 'output': '明天下午14点是合适的开会时间。'}"
      ]
     },
     "execution_count": 51,
     "metadata": {},
     "output_type": "execute_result"
    }
   ],
   "source": [
    "agent_executor.invoke({\n",
    "    \"input\": \"我想明天下午和张三、王五开会。我约在几点合适？\"\n",
    "})"
   ]
  },
  {
   "cell_type": "code",
   "execution_count": null,
   "metadata": {},
   "outputs": [],
   "source": []
  },
  {
   "cell_type": "code",
   "execution_count": 20,
   "metadata": {},
   "outputs": [
    {
     "name": "stdout",
     "output_type": "stream",
     "text": [
      "\n",
      "\n",
      "\u001b[1m> Entering new AgentExecutor chain...\u001b[0m\n",
      "\u001b[32;1m\u001b[1;3mCould not parse LLM output: 首先，我需要知道明天的日期。然后，我需要查询张三、李四和王五的日程，看看他们明天下午有没有空。我可以先查询明天的日期。\u001b[0mInvalid or incomplete response\u001b[32;1m\u001b[1;3m我需要使用query_date工具来获取今天的日期。\n",
      "Action:\n",
      "```\n",
      "{\n",
      "  \"action\": \"query_date\",\n",
      "  \"action_input\": {}\n",
      "}\n",
      "```\u001b[0m\u001b[33;1m\u001b[1;3m{'year': 2023, 'month': 11, 'day': 30}\u001b[0m\u001b[32;1m\u001b[1;3m我现在知道了今天的日期是2023年11月30日。接下来，我需要计算明天的日期。我可以使用date_calc工具，将delta_day设置为1，来获取明天的日期。\n",
      "Action:\n",
      "```\n",
      "{\n",
      "  \"action\": \"date_calc\",\n",
      "  \"action_input\": {\"year\": 2023, \"month\": 11, \"day\": 30, \"delta_day\": 1}\n",
      "}\n",
      "```\u001b[0m\u001b[38;5;200m\u001b[1;3m{'year': 2023, 'month': 12, 'day': 1}\u001b[0m\u001b[32;1m\u001b[1;3m我现在知道了明天的日期是2023年12月1日。接下来，我需要查询张三、李四和王五明天下午的日程。首先，我需要获取他们的员工编号。我可以使用query_uid工具来获取张三的员工编号。\n",
      "Action:\n",
      "```\n",
      "{\n",
      "  \"action\": \"query_uid\",\n",
      "  \"action_input\": {\"name\": \"张三\"}\n",
      "}\n",
      "```\u001b[0m\u001b[36;1m\u001b[1;3m1000\u001b[0m\u001b[32;1m\u001b[1;3m我现在知道张三的员工编号是1000。接下来，我需要查询他明天下午的日程。我可以使用query_calendar_free工具，将小时设置为13到17，来查询他明天下午的日程。\n",
      "Action:\n",
      "```\n",
      "{\n",
      "  \"action\": \"query_calendar_free\",\n",
      "  \"action_input\": {\"uid\": 1000, \"year\": 2023, \"month\": 12, \"day\": 1, \"hour_24\": 13}\n",
      "}\n",
      "```\u001b[0m\u001b[36;1m\u001b[1;3mFalse\u001b[0m\u001b[32;1m\u001b[1;3m张三在明天下午1点的时候不空闲。我需要继续查询他在明天下午其他时间的日程。\n",
      "Action:\n",
      "```\n",
      "{\n",
      "  \"action\": \"query_calendar_free\",\n",
      "  \"action_input\": {\"uid\": 1000, \"year\": 2023, \"month\": 12, \"day\": 1, \"hour_24\": 14}\n",
      "}\n",
      "```\u001b[0m\u001b[36;1m\u001b[1;3mTrue\u001b[0m\u001b[32;1m\u001b[1;3m张三在明天下午2点的时候是空闲的。接下来，我需要查询李四和王五在这个时间的日程。首先，我需要获取他们的员工编号。我可以使用query_uid工具来获取李四的员工编号。\n",
      "Action:\n",
      "```\n",
      "{\n",
      "  \"action\": \"query_uid\",\n",
      "  \"action_input\": {\"name\": \"李四\"}\n",
      "}\n",
      "```\u001b[0m\u001b[36;1m\u001b[1;3m1001\u001b[0m\u001b[32;1m\u001b[1;3m我现在知道李四的员工编号是1001。接下来，我需要查询他明天下午2点的日程。我可以使用query_calendar_free工具来查询。\n",
      "Action:\n",
      "```\n",
      "{\n",
      "  \"action\": \"query_calendar_free\",\n",
      "  \"action_input\": {\"uid\": 1001, \"year\": 2023, \"month\": 12, \"day\": 1, \"hour_24\": 14}\n",
      "}\n",
      "```\u001b[0m\u001b[36;1m\u001b[1;3mFalse\u001b[0m\u001b[32;1m\u001b[1;3m李四在明天下午2点的时候不空闲。我需要继续查询他在明天下午其他时间的日程。\n",
      "Action:\n",
      "```\n",
      "{\n",
      "  \"action\": \"query_calendar_free\",\n",
      "  \"action_input\": {\"uid\": 1001, \"year\": 2023, \"month\": 12, \"day\": 1, \"hour_24\": 15}\n",
      "}\n",
      "```\u001b[0m\u001b[36;1m\u001b[1;3mTrue\u001b[0m\u001b[32;1m\u001b[1;3m李四在明天下午3点的时候是空闲的。接下来，我需要查询王五在这个时间的日程。首先，我需要获取他的员工编号。我可以使用query_uid工具来获取王五的员工编号。\n",
      "Action:\n",
      "```\n",
      "{\n",
      "  \"action\": \"query_uid\",\n",
      "  \"action_input\": {\"name\": \"王五\"}\n",
      "}\n",
      "```\u001b[0m\u001b[36;1m\u001b[1;3m1002\u001b[0m\u001b[32;1m\u001b[1;3m我现在知道王五的员工编号是1002。接下来，我需要查询他明天下午3点的日程。我可以使用query_calendar_free工具来查询。\n",
      "Action:\n",
      "```\n",
      "{\n",
      "  \"action\": \"query_calendar_free\",\n",
      "  \"action_input\": {\"uid\": 1002, \"year\": 2023, \"month\": 12, \"day\": 1, \"hour_24\": 15}\n",
      "}\n",
      "```\u001b[0m\u001b[36;1m\u001b[1;3mFalse\u001b[0m\u001b[32;1m\u001b[1;3m王五在明天下午3点的时候不空闲。我需要继续查询他在明天下午其他时间的日程。\n",
      "Action:\n",
      "```\n",
      "{\n",
      "  \"action\": \"query_calendar_free\",\n",
      "  \"action_input\": {\"uid\": 1002, \"year\": 2023, \"month\": 12, \"day\": 1, \"hour_24\": 16}\n",
      "}\n",
      "```\u001b[0m\u001b[36;1m\u001b[1;3mTrue\u001b[0m\u001b[32;1m\u001b[1;3m王五在明天下午4点的时候是空闲的。接下来，我需要查询张三和李四在这个时间的日程。我可以使用query_calendar_free工具来查询张三在这个时间的日程。\n",
      "Action:\n",
      "```\n",
      "{\n",
      "  \"action\": \"query_calendar_free\",\n",
      "  \"action_input\": {\"uid\": 1000, \"year\": 2023, \"month\": 12, \"day\": 1, \"hour_24\": 16}\n",
      "}\n",
      "```\u001b[0m\u001b[36;1m\u001b[1;3mTrue\u001b[0m\u001b[32;1m\u001b[1;3m张三在明天下午4点的时候是空闲的。接下来，我需要查询李四在这个时间的日程。我可以使用query_calendar_free工具来查询李四在这个时间的日程。\n",
      "Action:\n",
      "```\n",
      "{\n",
      "  \"action\": \"query_calendar_free\",\n",
      "  \"action_input\": {\"uid\": 1001, \"year\": 2023, \"month\": 12, \"day\": 1, \"hour_24\": 16}\n",
      "}\n",
      "```\u001b[0m\u001b[36;1m\u001b[1;3mTrue\u001b[0m\u001b[32;1m\u001b[1;3m李四在明天下午4点的时候也是空闲的。所以，明天下午4点是张三、李四和王五都空闲的时间，可以安排会议。\n",
      "Final Answer: 明天下午4点是合适的会议时间。\u001b[0m\n",
      "\n",
      "\u001b[1m> Finished chain.\u001b[0m\n"
     ]
    },
    {
     "data": {
      "text/plain": [
       "{'input': '我想明天下午和张三、李四和王五开会。我约在几点合适？', 'output': '明天下午4点是合适的会议时间。'}"
      ]
     },
     "execution_count": 20,
     "metadata": {},
     "output_type": "execute_result"
    }
   ],
   "source": [
    "agent_executor.invoke({\n",
    "    # \"input\": \"我想明天下午和张三、王五开会，不过我下午2点之后才有空。我约在几点合适？\"\n",
    "    \"input\": \"我想明天下午和张三、李四和王五开会。我约在几点合适？\"\n",
    "})"
   ]
  },
  {
   "cell_type": "code",
   "execution_count": null,
   "metadata": {},
   "outputs": [],
   "source": []
  },
  {
   "cell_type": "code",
   "execution_count": null,
   "metadata": {},
   "outputs": [],
   "source": []
  },
  {
   "cell_type": "code",
   "execution_count": null,
   "metadata": {},
   "outputs": [],
   "source": []
  },
  {
   "cell_type": "code",
   "execution_count": null,
   "metadata": {},
   "outputs": [],
   "source": []
  },
  {
   "cell_type": "code",
   "execution_count": null,
   "metadata": {},
   "outputs": [],
   "source": []
  },
  {
   "cell_type": "code",
   "execution_count": null,
   "metadata": {},
   "outputs": [],
   "source": []
  },
  {
   "cell_type": "code",
   "execution_count": null,
   "metadata": {},
   "outputs": [],
   "source": []
  },
  {
   "cell_type": "code",
   "execution_count": null,
   "metadata": {},
   "outputs": [],
   "source": []
  },
  {
   "cell_type": "code",
   "execution_count": 52,
   "metadata": {},
   "outputs": [
    {
     "name": "stdout",
     "output_type": "stream",
     "text": [
      "\n",
      "\n",
      "\u001b[1m> Entering new AgentExecutor chain...\u001b[0m\n",
      "\u001b[32;1m\u001b[1;3m首先，我需要知道今天的日期，然后我才能计算出明天的日期。然后，我需要查询张三、李四和王五的员工编号，以便我可以查看他们的日历。我将从查询今天的日期开始。 \n",
      "Action:\n",
      "```\n",
      "{\n",
      "  \"action\": \"query_date\",\n",
      "  \"action_input\": {}\n",
      "}\n",
      "```\u001b[0m\u001b[33;1m\u001b[1;3m{'year': 2023, 'month': 11, 'day': 30}\u001b[0m\u001b[32;1m\u001b[1;3m现在我知道今天是2023年11月30日。接下来，我需要计算出明天的日期。\n",
      "Action:\n",
      "```\n",
      "{\n",
      "  \"action\": \"date_calc\",\n",
      "  \"action_input\": {\"year\": 2023, \"month\": 11, \"day\": 30, \"delta_day\": 1}\n",
      "}\n",
      "```\u001b[0m\u001b[38;5;200m\u001b[1;3m{'year': 2023, 'month': 12, 'day': 1}\u001b[0m\u001b[32;1m\u001b[1;3m明天是2023年12月1日。接下来，我需要查询张三、李四和王五的员工编号。\n",
      "Action:\n",
      "```\n",
      "{\n",
      "  \"action\": \"query_uid\",\n",
      "  \"action_input\": {\"name\": \"张三\"}\n",
      "}\n",
      "```\u001b[0m\u001b[36;1m\u001b[1;3m1000\u001b[0m\u001b[32;1m\u001b[1;3m张三的员工编号是1000。接下来，我需要查询李四的员工编号。\n",
      "Action:\n",
      "```\n",
      "{\n",
      "  \"action\": \"query_uid\",\n",
      "  \"action_input\": {\"name\": \"李四\"}\n",
      "}\n",
      "```\u001b[0m\u001b[36;1m\u001b[1;3m1001\u001b[0m\u001b[32;1m\u001b[1;3m李四的员工编号是1001。接下来，我需要查询王五的员工编号。\n",
      "Action:\n",
      "```\n",
      "{\n",
      "  \"action\": \"query_uid\",\n",
      "  \"action_input\": {\"name\": \"王五\"}\n",
      "}\n",
      "```\u001b[0m\u001b[36;1m\u001b[1;3m1002\u001b[0m\u001b[32;1m\u001b[1;3m王五的员工编号是1002。现在我有了所有人的员工编号，我可以开始检查他们明天下午的日程是否空闲。我将从下午1点开始检查，直到找到一个所有人都空闲的时间。\n",
      "Action:\n",
      "```\n",
      "{\n",
      "  \"action\": \"query_calendar_free\",\n",
      "  \"action_input\": {\"uid\": 1000, \"year\": 2023, \"month\": 12, \"day\": 1, \"hour_24\": 13}\n",
      "}\n",
      "```\u001b[0m\u001b[36;1m\u001b[1;3mFalse\u001b[0m\u001b[32;1m\u001b[1;3m张三在下午1点有安排。我需要检查下一个小时。\n",
      "Action:\n",
      "```\n",
      "{\n",
      "  \"action\": \"query_calendar_free\",\n",
      "  \"action_input\": {\"uid\": 1000, \"year\": 2023, \"month\": 12, \"day\": 1, \"hour_24\": 14}\n",
      "}\n",
      "```\u001b[0m\u001b[36;1m\u001b[1;3mTrue\u001b[0m\u001b[32;1m\u001b[1;3m张三在下午2点是空闲的。接下来，我需要检查李四在这个时间是否空闲。\n",
      "Action:\n",
      "```\n",
      "{\n",
      "  \"action\": \"query_calendar_free\",\n",
      "  \"action_input\": {\"uid\": 1001, \"year\": 2023, \"month\": 12, \"day\": 1, \"hour_24\": 14}\n",
      "}\n",
      "```\u001b[0m\u001b[36;1m\u001b[1;3mFalse\u001b[0m\u001b[32;1m\u001b[1;3m李四在下午2点有安排。我需要检查下一个小时。\n",
      "Action:\n",
      "```\n",
      "{\n",
      "  \"action\": \"query_calendar_free\",\n",
      "  \"action_input\": {\"uid\": 1000, \"year\": 2023, \"month\": 12, \"day\": 1, \"hour_24\": 15}\n",
      "}\n",
      "```\u001b[0m\u001b[36;1m\u001b[1;3mTrue\u001b[0m\u001b[32;1m\u001b[1;3m张三在下午3点是空闲的。接下来，我需要检查李四在这个时间是否空闲。\n",
      "Action:\n",
      "```\n",
      "{\n",
      "  \"action\": \"query_calendar_free\",\n",
      "  \"action_input\": {\"uid\": 1001, \"year\": 2023, \"month\": 12, \"day\": 1, \"hour_24\": 15}\n",
      "}\n",
      "```\u001b[0m\u001b[36;1m\u001b[1;3mTrue\u001b[0m\u001b[32;1m\u001b[1;3m李四在下午3点也是空闲的。接下来，我需要检查王五在这个时间是否空闲。\n",
      "Action:\n",
      "```\n",
      "{\n",
      "  \"action\": \"query_calendar_free\",\n",
      "  \"action_input\": {\"uid\": 1002, \"year\": 2023, \"month\": 12, \"day\": 1, \"hour_24\": 15}\n",
      "}\n",
      "```\u001b[0m\u001b[36;1m\u001b[1;3mFalse\u001b[0m\u001b[32;1m\u001b[1;3m王五在下午3点有安排。我需要检查下一个小时。\n",
      "Action:\n",
      "```\n",
      "{\n",
      "  \"action\": \"query_calendar_free\",\n",
      "  \"action_input\": {\"uid\": 1000, \"year\": 2023, \"month\": 12, \"day\": 1, \"hour_24\": 16}\n",
      "}\n",
      "```\u001b[0m\u001b[36;1m\u001b[1;3mTrue\u001b[0m\u001b[32;1m\u001b[1;3m张三在下午4点是空闲的。接下来，我需要检查李四在这个时间是否空闲。\n",
      "Action:\n",
      "```\n",
      "{\n",
      "  \"action\": \"query_calendar_free\",\n",
      "  \"action_input\": {\"uid\": 1001, \"year\": 2023, \"month\": 12, \"day\": 1, \"hour_24\": 16}\n",
      "}\n",
      "```\u001b[0m\u001b[36;1m\u001b[1;3mTrue\u001b[0m\u001b[32;1m\u001b[1;3m李四在下午4点也是空闲的。接下来，我需要检查王五在这个时间是否空闲。\n",
      "Action:\n",
      "```\n",
      "{\n",
      "  \"action\": \"query_calendar_free\",\n",
      "  \"action_input\": {\"uid\": 1002, \"year\": 2023, \"month\": 12, \"day\": 1, \"hour_24\": 16}\n",
      "}\n",
      "```\u001b[0m\u001b[36;1m\u001b[1;3mTrue\u001b[0m\u001b[32;1m\u001b[1;3m王五在下午4点也是空闲的。所以，明天下午4点是所有人都空闲的时间，可以安排会议。\n",
      "Final Answer: 明天下午4点是所有人都空闲的时间，可以安排会议。\u001b[0m\n",
      "\n",
      "\u001b[1m> Finished chain.\u001b[0m\n"
     ]
    },
    {
     "data": {
      "text/plain": [
       "{'input': '我想明天下午和张三、李四和王五开会。我约在几点合适？', 'output': '明天下午4点是所有人都空闲的时间，可以安排会议。'}"
      ]
     },
     "execution_count": 52,
     "metadata": {},
     "output_type": "execute_result"
    }
   ],
   "source": [
    "agent_executor.invoke({\n",
    "    # \"input\": \"我想明天下午和张三、王五开会，不过我下午2点之后才有空。我约在几点合适？\"\n",
    "    \"input\": \"我想明天下午和张三、李四和王五开会。我约在几点合适？\"\n",
    "})"
   ]
  },
  {
   "cell_type": "code",
   "execution_count": null,
   "metadata": {},
   "outputs": [],
   "source": []
  }
 ],
 "metadata": {
  "kernelspec": {
   "display_name": "chat_embedding",
   "language": "python",
   "name": "python3"
  },
  "language_info": {
   "codemirror_mode": {
    "name": "ipython",
    "version": 3
   },
   "file_extension": ".py",
   "mimetype": "text/x-python",
   "name": "python",
   "nbconvert_exporter": "python",
   "pygments_lexer": "ipython3",
   "version": "3.9.0"
  }
 },
 "nbformat": 4,
 "nbformat_minor": 2
}
